{
 "cells": [
  {
   "cell_type": "code",
   "execution_count": 40,
   "id": "abd428e7",
   "metadata": {},
   "outputs": [],
   "source": [
    "import os\n",
    "import pandas as pd\n",
    "\n",
    "from sklearn.svm import SVC\n",
    "import matplotlib.pyplot as plt\n",
    "import numpy as np\n",
    "import seaborn as sns\n",
    "from sklearn.model_selection import (\n",
    "    GridSearchCV, RepeatedStratifiedKFold,\n",
    "    StratifiedKFold, cross_val_score,\n",
    "    train_test_split\n",
    ")\n",
    "from sklearn.linear_model import LogisticRegression\n",
    "from sklearn.ensemble import RandomForestClassifier\n",
    "from xgboost import XGBClassifier\n",
    "\n",
    "from sklearn.metrics import (accuracy_score, auc, confusion_matrix, f1_score,\n",
    "                             make_scorer, precision_recall_curve,\n",
    "                             precision_score, recall_score, matthews_corrcoef)\n",
    "from sklearn.metrics import confusion_matrix, ConfusionMatrixDisplay"
   ]
  },
  {
   "cell_type": "code",
   "execution_count": 2,
   "id": "04198ae3",
   "metadata": {},
   "outputs": [],
   "source": [
    "current_directory = os.getcwd()\n",
    "home_dir = current_directory.split(\"notebooks\")[0]\n",
    "data_dir = os.path.join(home_dir, \"data\")"
   ]
  },
  {
   "cell_type": "code",
   "execution_count": 3,
   "id": "adfb7ba2",
   "metadata": {},
   "outputs": [
    {
     "data": {
      "text/plain": [
       "'C:\\\\Users\\\\vnarv\\\\PycharmProjects\\\\wine_quality\\\\notebooks'"
      ]
     },
     "execution_count": 3,
     "metadata": {},
     "output_type": "execute_result"
    }
   ],
   "source": [
    "os.getcwd()"
   ]
  },
  {
   "cell_type": "code",
   "execution_count": 4,
   "id": "9b149e05",
   "metadata": {},
   "outputs": [],
   "source": [
    "# read data\n",
    "df_raw = pd.read_csv(os.path.join(data_dir, \"wine-quality-white-and-red.csv\"))"
   ]
  },
  {
   "cell_type": "code",
   "execution_count": 5,
   "id": "7bfad6d5",
   "metadata": {},
   "outputs": [
    {
     "name": "stderr",
     "output_type": "stream",
     "text": [
      "C:\\Users\\vnarv\\AppData\\Local\\Temp\\ipykernel_16220\\477210811.py:4: SettingWithCopyWarning: \n",
      "A value is trying to be set on a copy of a slice from a DataFrame.\n",
      "Try using .loc[row_indexer,col_indexer] = value instead\n",
      "\n",
      "See the caveats in the documentation: https://pandas.pydata.org/pandas-docs/stable/user_guide/indexing.html#returning-a-view-versus-a-copy\n",
      "  df_dedup[\"quality\"] = df_dedup[\"quality\"].astype(\"category\")\n",
      "C:\\Users\\vnarv\\AppData\\Local\\Temp\\ipykernel_16220\\477210811.py:5: SettingWithCopyWarning: \n",
      "A value is trying to be set on a copy of a slice from a DataFrame.\n",
      "Try using .loc[row_indexer,col_indexer] = value instead\n",
      "\n",
      "See the caveats in the documentation: https://pandas.pydata.org/pandas-docs/stable/user_guide/indexing.html#returning-a-view-versus-a-copy\n",
      "  df_dedup[\"type\"] = df_dedup[\"type\"].astype(\"category\")\n"
     ]
    }
   ],
   "source": [
    "# drop perfect duplicates\n",
    "df_dedup = df_raw.drop_duplicates()\n",
    "# correct data types\n",
    "df_dedup[\"quality\"] = df_dedup[\"quality\"].astype(\"category\")\n",
    "df_dedup[\"type\"] = df_dedup[\"type\"].astype(\"category\")\n",
    "# check nan\n",
    "columns_with_nan = df_dedup.isna().any().any(axis=0)\n",
    "if columns_with_nan:\n",
    "    raise ValueError(\"Columns have NAN values\")"
   ]
  },
  {
   "cell_type": "code",
   "execution_count": 6,
   "id": "126bf1e4",
   "metadata": {},
   "outputs": [
    {
     "name": "stderr",
     "output_type": "stream",
     "text": [
      "C:\\Users\\vnarv\\AppData\\Local\\Temp\\ipykernel_16220\\1279295188.py:4: SettingWithCopyWarning: \n",
      "A value is trying to be set on a copy of a slice from a DataFrame.\n",
      "Try using .loc[row_indexer,col_indexer] = value instead\n",
      "\n",
      "See the caveats in the documentation: https://pandas.pydata.org/pandas-docs/stable/user_guide/indexing.html#returning-a-view-versus-a-copy\n",
      "  df_y[\"y\"] = np.where(df_dedup[target] == 'red', 1, 0)\n"
     ]
    }
   ],
   "source": [
    "target = \"type\"\n",
    "df_x = df_dedup.drop(target, axis=1)\n",
    "df_y = df_dedup[[target]]\n",
    "df_y[\"y\"] = np.where(df_dedup[target] == 'red', 1, 0)"
   ]
  },
  {
   "cell_type": "code",
   "execution_count": null,
   "id": "bccbef7e",
   "metadata": {},
   "outputs": [],
   "source": []
  },
  {
   "cell_type": "code",
   "execution_count": 7,
   "id": "c24d6b8d",
   "metadata": {},
   "outputs": [],
   "source": [
    "X_train_, X_test, y_train_, y_test = train_test_split(\n",
    "            df_x, df_y, test_size=0.2, stratify=df_y[\"y\"], random_state=42\n",
    "        )"
   ]
  },
  {
   "cell_type": "code",
   "execution_count": 8,
   "id": "5d6a4f45",
   "metadata": {},
   "outputs": [],
   "source": [
    "X_train, X_val, y_train, y_val = train_test_split(\n",
    "            X_train_, y_train_, test_size=0.1, stratify=y_train_[target], random_state=42\n",
    "        )"
   ]
  },
  {
   "cell_type": "code",
   "execution_count": 9,
   "id": "55da872e",
   "metadata": {},
   "outputs": [
    {
     "data": {
      "text/plain": [
       "(3830, 12)"
      ]
     },
     "execution_count": 9,
     "metadata": {},
     "output_type": "execute_result"
    }
   ],
   "source": [
    "X_train.shape"
   ]
  },
  {
   "cell_type": "code",
   "execution_count": 10,
   "id": "e3a5e96d",
   "metadata": {},
   "outputs": [
    {
     "data": {
      "text/plain": [
       "(3830, 2)"
      ]
     },
     "execution_count": 10,
     "metadata": {},
     "output_type": "execute_result"
    }
   ],
   "source": [
    "y_train.shape"
   ]
  },
  {
   "cell_type": "code",
   "execution_count": 11,
   "id": "eaa58eca",
   "metadata": {},
   "outputs": [
    {
     "name": "stdout",
     "output_type": "stream",
     "text": [
      "(3830, 12)\n",
      "(426, 12)\n",
      "(3830, 2)\n",
      "(426, 2)\n",
      "(1064, 12)\n",
      "(1064, 2)\n"
     ]
    }
   ],
   "source": [
    "for df in [X_train, X_val, y_train, y_val, X_test, y_test]:\n",
    "    print(df.shape)"
   ]
  },
  {
   "cell_type": "code",
   "execution_count": 12,
   "id": "2b43d0dc",
   "metadata": {},
   "outputs": [],
   "source": [
    "from sklearn.preprocessing import OrdinalEncoder\n",
    "def ordinal_encoder(Xtrain, Xval, Xtest, features):\n",
    "    if features is None:\n",
    "       features = Xtrain.select_dtypes(\"category\").columns.tolist()\n",
    "    # fit encoder\n",
    "    enc = OrdinalEncoder()\n",
    "    _ = enc.fit(Xtrain[features])\n",
    "    # infer model\n",
    "    for df in [Xtrain, Xval, Xtest]:\n",
    "        print(df.shape)\n",
    "        df[features]= enc.transform(df[features])\n",
    "        print(df.shape)\n",
    "    return Xtrain, Xval, Xtest\n",
    "# scale data\n",
    "from sklearn.preprocessing import StandardScaler\n",
    "def scale_data(Xtrain, Xval, Xtest, features):\n",
    "    if features is None:\n",
    "        features = Xtrain.select_dtypes(np.number).columns.tolist()\n",
    "    scaler = StandardScaler()\n",
    "    scaler.fit(Xtrain)\n",
    "    for df in [Xtrain, Xval, Xtest]:\n",
    "        df[features]= scaler.transform(df[features])\n",
    "    return Xtrain, Xval, Xtest\n",
    " "
   ]
  },
  {
   "cell_type": "code",
   "execution_count": 14,
   "id": "80cfcaf2",
   "metadata": {},
   "outputs": [
    {
     "name": "stdout",
     "output_type": "stream",
     "text": [
      "(3830, 12)\n",
      "(3830, 12)\n",
      "(426, 12)\n",
      "(426, 12)\n",
      "(1064, 12)\n",
      "(1064, 12)\n"
     ]
    }
   ],
   "source": [
    "X_train, X_val, X_test = ordinal_encoder(X_train, X_val, X_test,None)\n",
    "X_train, X_val, X_test = scale_data(X_train, X_val, X_test,None)  "
   ]
  },
  {
   "cell_type": "code",
   "execution_count": 15,
   "id": "6fb43b17",
   "metadata": {},
   "outputs": [
    {
     "data": {
      "text/plain": [
       "(3830, 12)"
      ]
     },
     "execution_count": 15,
     "metadata": {},
     "output_type": "execute_result"
    }
   ],
   "source": [
    "X_train.shape"
   ]
  },
  {
   "cell_type": "code",
   "execution_count": 16,
   "id": "4a0dd384",
   "metadata": {},
   "outputs": [
    {
     "data": {
      "text/plain": [
       "Index(['fixed acidity', 'volatile acidity', 'citric acid', 'residual sugar',\n",
       "       'chlorides', 'free sulfur dioxide', 'total sulfur dioxide', 'density',\n",
       "       'pH', 'sulphates', 'alcohol', 'quality'],\n",
       "      dtype='object')"
      ]
     },
     "execution_count": 16,
     "metadata": {},
     "output_type": "execute_result"
    }
   ],
   "source": [
    "X_train.columns"
   ]
  },
  {
   "cell_type": "code",
   "execution_count": 17,
   "id": "09228477",
   "metadata": {},
   "outputs": [
    {
     "data": {
      "text/plain": [
       "3830"
      ]
     },
     "execution_count": 17,
     "metadata": {},
     "output_type": "execute_result"
    }
   ],
   "source": [
    "len(y_train)"
   ]
  },
  {
   "cell_type": "code",
   "execution_count": 53,
   "id": "72bfa7a5",
   "metadata": {},
   "outputs": [
    {
     "name": "stderr",
     "output_type": "stream",
     "text": [
      "C:\\Users\\vnarv\\AppData\\Local\\Temp\\ipykernel_16220\\3435987344.py:1: FutureWarning: Dropping of nuisance columns in DataFrame reductions (with 'numeric_only=None') is deprecated; in a future version this will raise TypeError.  Select only valid columns before calling the reduction.\n",
      "  df_x.std()\n"
     ]
    },
    {
     "data": {
      "text/plain": [
       "fixed acidity            1.319671\n",
       "volatile acidity         0.168248\n",
       "citric acid              0.147157\n",
       "residual sugar           4.500180\n",
       "chlorides                0.036863\n",
       "free sulfur dioxide     17.805045\n",
       "total sulfur dioxide    56.774223\n",
       "density                  0.002966\n",
       "pH                       0.160379\n",
       "sulphates                0.149743\n",
       "alcohol                  1.185933\n",
       "dtype: float64"
      ]
     },
     "execution_count": 53,
     "metadata": {},
     "output_type": "execute_result"
    }
   ],
   "source": [
    "df_x.std()"
   ]
  },
  {
   "cell_type": "code",
   "execution_count": 49,
   "id": "eed1b65f",
   "metadata": {},
   "outputs": [],
   "source": [
    "def get_models():\n",
    "    seed = 42\n",
    "    models = {\n",
    "    \"LogisticRegression\":\n",
    "    LogisticRegression(\n",
    "        random_state=seed,\n",
    "        #class_weight=cw_dict\n",
    "    ),\n",
    "    \"SVM\":\n",
    "    SVC(\n",
    "        #class_weight=cw_dict,\n",
    "        probability=True\n",
    "    ),\n",
    "    \"RandomForestClassifier\":\n",
    "        RandomForestClassifier(\n",
    "            #class_weight=cw_dict,\n",
    "            random_state=seed,\n",
    "        ),\n",
    "    \"XGBClassifier\":\n",
    "        XGBClassifier(\n",
    "            #use_label_encoder=False,\n",
    "            eval_metric='logloss',\n",
    "            random_state=seed,\n",
    "        )\n",
    "    }\n",
    "    return models\n",
    "\n",
    "def cross_validation(model, X, y, scoring):\n",
    "    model_scores = []\n",
    "    for score in scoring:\n",
    "        cv = RepeatedStratifiedKFold(n_splits=10, n_repeats=3, random_state=0)\n",
    "        scores = cross_val_score(model, X, y, scoring=score, cv=cv, n_jobs=-1)\n",
    "        model_scores.append(scores.mean())\n",
    "    return model_scores\n",
    "\n",
    "def predict_data(model,Xtrain, ytrain, X2, y2):\n",
    "    model.fit(Xtrain, ytrain)\n",
    "    return model.predict(X2)"
   ]
  },
  {
   "cell_type": "code",
   "execution_count": 43,
   "id": "1b19296f",
   "metadata": {},
   "outputs": [],
   "source": [
    "mt_score = make_scorer(matthews_corrcoef)"
   ]
  },
  {
   "cell_type": "code",
   "execution_count": 47,
   "id": "be16ff8c",
   "metadata": {},
   "outputs": [
    {
     "data": {
      "text/plain": [
       "(3830,)"
      ]
     },
     "execution_count": 47,
     "metadata": {},
     "output_type": "execute_result"
    }
   ],
   "source": [
    "y_train[\"y\"].shape"
   ]
  },
  {
   "cell_type": "code",
   "execution_count": 55,
   "id": "0e246ab3",
   "metadata": {},
   "outputs": [
    {
     "name": "stdout",
     "output_type": "stream",
     "text": [
      "LogisticRegression, mattew score: 98.3%, f1 macro 99.2%\n"
     ]
    },
    {
     "data": {
      "image/png": "[encoded data removed]",
      "text/plain": [
       "<Figure size 640x480 with 2 Axes>"
      ]
     },
     "metadata": {},
     "output_type": "display_data"
    },
    {
     "name": "stdout",
     "output_type": "stream",
     "text": [
      "SVM, mattew score: 98.6%, f1 macro 99.3%\n"
     ]
    },
    {
     "data": {
      "image/png": "[encoded data removed]",
      "text/plain": [
       "<Figure size 640x480 with 2 Axes>"
      ]
     },
     "metadata": {},
     "output_type": "display_data"
    },
    {
     "name": "stdout",
     "output_type": "stream",
     "text": [
      "RandomForestClassifier, mattew score: 98.3%, f1 macro 99.1%\n"
     ]
    },
    {
     "data": {
      "image/png": "[encoded data removed]",
      "text/plain": [
       "<Figure size 640x480 with 2 Axes>"
      ]
     },
     "metadata": {},
     "output_type": "display_data"
    },
    {
     "name": "stdout",
     "output_type": "stream",
     "text": [
      "XGBClassifier, mattew score: 98.5%, f1 macro 99.2%\n"
     ]
    },
    {
     "data": {
      "image/png": "[encoded data removed]",
      "text/plain": [
       "<Figure size 640x480 with 2 Axes>"
      ]
     },
     "metadata": {},
     "output_type": "display_data"
    }
   ],
   "source": [
    " import matplotlib.pyplot as plt\n",
    "for name, m in get_models().items():\n",
    "    scores = cross_validation(m, X_train, y_train[\"y\"], [mt_score, \"f1_macro\"])\n",
    "    print(f\"{name}, mattew score: {scores[0]:.1%}, f1 macro {scores[1]:.1%}\")\n",
    "    y_test_pred = predict_data(m, X_train, y_train[\"y\"], X_test, y_test[\"y\"])\n",
    "    cm = confusion_matrix(y_test[\"y\"], y_test_pred)\n",
    "    disp = ConfusionMatrixDisplay(confusion_matrix=cm,\n",
    "                              display_labels=[\"red\", \"white\"])\n",
    "    disp.plot()\n",
    "    plt.show()"
   ]
  },
  {
   "cell_type": "code",
   "execution_count": null,
   "id": "75b2db8b",
   "metadata": {},
   "outputs": [],
   "source": []
  }
 ],
 "metadata": {
  "kernelspec": {
   "display_name": "Python 3",
   "language": "python",
   "name": "python3"
  },
  "language_info": {
   "codemirror_mode": {
    "name": "ipython",
    "version": 3
   },
   "file_extension": ".py",
   "mimetype": "text/x-python",
   "name": "python",
   "nbconvert_exporter": "python",
   "pygments_lexer": "ipython3",
   "version": "3.9.12"
  }
 },
 "nbformat": 4,
 "nbformat_minor": 5
}
