{
 "cells": [
  {
   "cell_type": "code",
   "execution_count": 3,
   "id": "d61f7fc2",
   "metadata": {},
   "outputs": [
    {
     "name": "stdout",
     "output_type": "stream",
     "text": [
      "The autoreload extension is already loaded. To reload it, use:\n",
      "  %reload_ext autoreload\n"
     ]
    }
   ],
   "source": [
    "%load_ext autoreload\n",
    "%autoreload 2"
   ]
  },
  {
   "cell_type": "code",
   "execution_count": 4,
   "id": "c173a3db",
   "metadata": {},
   "outputs": [],
   "source": [
    "# change current working directory before loading custom modules\n",
    "current_directory = os.getcwd()\n",
    "home_dir = current_directory.split(\"notebooks\")[0]\n",
    "data_dir = os.path.join(home_dir, \"data\")\n",
    "os.chdir(home_dir)"
   ]
  },
  {
   "cell_type": "code",
   "execution_count": 5,
   "id": "abd428e7",
   "metadata": {},
   "outputs": [],
   "source": [
    "import os\n",
    "import pandas as pd\n",
    "\n",
    "from sklearn.svm import SVC\n",
    "import matplotlib.pyplot as plt\n",
    "import numpy as np\n",
    "\n",
    "from sklearn.model_selection import (\n",
    "    RepeatedStratifiedKFold,\n",
    "    StratifiedKFold, cross_val_score,\n",
    "    train_test_split\n",
    ")\n",
    "from sklearn.linear_model import LogisticRegression\n",
    "from sklearn.ensemble import RandomForestClassifier\n",
    "from xgboost import XGBClassifier\n",
    "\n",
    "from sklearn.metrics import (\n",
    "    accuracy_score, auc, confusion_matrix, f1_score,\n",
    "                             make_scorer, precision_recall_curve,\n",
    "                             precision_score, recall_score, matthews_corrcoef\n",
    ")\n",
    "from sklearn.metrics import confusion_matrix, ConfusionMatrixDisplay\n",
    "from pickle import dump, load\n",
    "\n",
    "from tools.preprocessing import ordinal_encoder, scale_data"
   ]
  },
  {
   "cell_type": "code",
   "execution_count": 6,
   "id": "9b149e05",
   "metadata": {},
   "outputs": [],
   "source": [
    "# read data\n",
    "df_raw = pd.read_csv(os.path.join(data_dir, \"wine-quality-white-and-red.csv\"))"
   ]
  },
  {
   "cell_type": "markdown",
   "id": "61c7da51",
   "metadata": {},
   "source": [
    "### Based on data exploration, prepare data for modelling"
   ]
  },
  {
   "cell_type": "code",
   "execution_count": 7,
   "id": "7bfad6d5",
   "metadata": {},
   "outputs": [
    {
     "name": "stderr",
     "output_type": "stream",
     "text": [
      "C:\\Users\\vnarv\\AppData\\Local\\Temp\\ipykernel_19392\\477210811.py:4: SettingWithCopyWarning: \n",
      "A value is trying to be set on a copy of a slice from a DataFrame.\n",
      "Try using .loc[row_indexer,col_indexer] = value instead\n",
      "\n",
      "See the caveats in the documentation: https://pandas.pydata.org/pandas-docs/stable/user_guide/indexing.html#returning-a-view-versus-a-copy\n",
      "  df_dedup[\"quality\"] = df_dedup[\"quality\"].astype(\"category\")\n",
      "C:\\Users\\vnarv\\AppData\\Local\\Temp\\ipykernel_19392\\477210811.py:5: SettingWithCopyWarning: \n",
      "A value is trying to be set on a copy of a slice from a DataFrame.\n",
      "Try using .loc[row_indexer,col_indexer] = value instead\n",
      "\n",
      "See the caveats in the documentation: https://pandas.pydata.org/pandas-docs/stable/user_guide/indexing.html#returning-a-view-versus-a-copy\n",
      "  df_dedup[\"type\"] = df_dedup[\"type\"].astype(\"category\")\n"
     ]
    }
   ],
   "source": [
    "# drop perfect duplicates\n",
    "df_dedup = df_raw.drop_duplicates()\n",
    "# correct data types\n",
    "df_dedup[\"quality\"] = df_dedup[\"quality\"].astype(\"category\")\n",
    "df_dedup[\"type\"] = df_dedup[\"type\"].astype(\"category\")\n",
    "# check nan\n",
    "columns_with_nan = df_dedup.isna().any().any(axis=0)\n",
    "if columns_with_nan:\n",
    "    raise ValueError(\"Columns have NAN values\")"
   ]
  },
  {
   "cell_type": "markdown",
   "id": "65015d4a",
   "metadata": {},
   "source": [
    "Note:\n",
    "- More complex data would require to handle empty values, outliers and highly correlated variables.\n",
    "- We could think as well of grouping less representative observations into 1 category or transforming numeric variables into categorical variables if they have few categories"
   ]
  },
  {
   "cell_type": "code",
   "execution_count": 8,
   "id": "126bf1e4",
   "metadata": {},
   "outputs": [
    {
     "name": "stderr",
     "output_type": "stream",
     "text": [
      "C:\\Users\\vnarv\\AppData\\Local\\Temp\\ipykernel_19392\\1279295188.py:4: SettingWithCopyWarning: \n",
      "A value is trying to be set on a copy of a slice from a DataFrame.\n",
      "Try using .loc[row_indexer,col_indexer] = value instead\n",
      "\n",
      "See the caveats in the documentation: https://pandas.pydata.org/pandas-docs/stable/user_guide/indexing.html#returning-a-view-versus-a-copy\n",
      "  df_y[\"y\"] = np.where(df_dedup[target] == 'red', 1, 0)\n"
     ]
    }
   ],
   "source": [
    "target = \"type\"\n",
    "df_x = df_dedup.drop(target, axis=1)\n",
    "df_y = df_dedup[[target]]\n",
    "df_y[\"y\"] = np.where(df_dedup[target] == 'red', 1, 0)"
   ]
  },
  {
   "cell_type": "code",
   "execution_count": 9,
   "id": "c24d6b8d",
   "metadata": {},
   "outputs": [],
   "source": [
    "# split data into train, validation and test, keeping the same proportion for y \n",
    "X_train_, X_test, y_train_, y_test = train_test_split(\n",
    "            df_x, df_y, test_size=0.2, stratify=df_y[\"y\"], random_state=42\n",
    "        )\n",
    "\n",
    "X_train, X_val, y_train, y_val = train_test_split(\n",
    "            X_train_, y_train_, test_size=0.1, stratify=y_train_[target], random_state=42\n",
    "        )"
   ]
  },
  {
   "cell_type": "code",
   "execution_count": 10,
   "id": "5c080cde",
   "metadata": {},
   "outputs": [
    {
     "name": "stdout",
     "output_type": "stream",
     "text": [
      "(3830, 12)\n",
      "(426, 12)\n",
      "(1064, 12)\n",
      "(3830, 2)\n",
      "(426, 2)\n",
      "(1064, 2)\n",
      "0    0.744361\n",
      "1    0.255639\n",
      "Name: y, dtype: float64\n",
      "0    0.744361\n",
      "1    0.255639\n",
      "Name: y, dtype: float64\n",
      "0    0.744361\n",
      "1    0.255639\n",
      "Name: y, dtype: float64\n"
     ]
    }
   ],
   "source": [
    "# check volumes and proportions\n",
    "for df in [X_train, X_val, X_test, y_train, y_val, y_test]:\n",
    "    print(df.shape)\n",
    "for df_y in [y_train, y_val, y_test]: \n",
    "    print(df[\"y\"].value_counts(normalize=True))"
   ]
  },
  {
   "cell_type": "code",
   "execution_count": 11,
   "id": "9cf67502",
   "metadata": {},
   "outputs": [
    {
     "name": "stdout",
     "output_type": "stream",
     "text": [
      "(3830, 12)\n",
      "(3830, 12)\n",
      "(426, 12)\n",
      "(426, 12)\n",
      "(1064, 12)\n",
      "(1064, 12)\n"
     ]
    }
   ],
   "source": [
    "# encode the variable \"quality\" using ordinal encoding\n",
    "# another option is to transform this variable with one hot encoder\n",
    "X_train, X_val, X_test = ordinal_encoder(X_train, X_val, X_test,None)\n",
    "# scale data using 'standard scaler'\n",
    "X_train, X_val, X_test = scale_data(X_train, X_val, X_test,None)  "
   ]
  },
  {
   "cell_type": "markdown",
   "id": "98276b99",
   "metadata": {},
   "source": [
    "### Test different models with the default parameters\n",
    "- We could think of the logit model as the base line model"
   ]
  },
  {
   "cell_type": "code",
   "execution_count": 12,
   "id": "eed1b65f",
   "metadata": {},
   "outputs": [],
   "source": [
    "def get_models():\n",
    "    \"\"\"Create a dictionary of ML models\"\"\"\n",
    "    seed = 42\n",
    "    models = {\n",
    "    # base line model\n",
    "    \"LogisticRegression\":\n",
    "    LogisticRegression(\n",
    "        random_state=seed,\n",
    "        #class_weight=cw_dict\n",
    "    ),\n",
    "    \"SVM\":\n",
    "    SVC(\n",
    "        #class_weight=cw_dict,\n",
    "        probability=True\n",
    "    ),\n",
    "    \"RandomForestClassifier\":\n",
    "        RandomForestClassifier(\n",
    "            #class_weight=cw_dict,\n",
    "            random_state=seed,\n",
    "        ),\n",
    "    \"XGBClassifier\":\n",
    "        XGBClassifier(\n",
    "            #use_label_encoder=False,\n",
    "            eval_metric='logloss',\n",
    "            random_state=seed,\n",
    "        )\n",
    "    }\n",
    "    return models\n",
    "\n",
    "\n",
    "def cross_validation(model, X, y, scoring):\n",
    "    \"\"\" Perform cross-validation on a given model\n",
    "    \"\"\"\n",
    "    model_scores = []\n",
    "    for score in scoring:\n",
    "        cv = RepeatedStratifiedKFold(n_splits=10, n_repeats=3, random_state=0)\n",
    "        scores = cross_val_score(model, X, y, scoring=score, cv=cv, n_jobs=-1)\n",
    "        model_scores.append(scores.mean())\n",
    "    return model_scores\n",
    "\n",
    "\n",
    "def predict_data(model_name, model, Xtrain, ytrain, X2, y2, do_save):\n",
    "    \"\"\"Train a model and optionally save it to a file\"\"\"\n",
    "    model.fit(Xtrain, ytrain)\n",
    "    if do_save:\n",
    "        filename = f'{model_name}_model.sav'\n",
    "        dump(model, open(filename, 'wb'))\n",
    "    return model.predict(X2)\n",
    "\n",
    "\n",
    "def compute_metrics(y_true, y_predict, metrics, average=None):\n",
    "    \"\"\"Compute several classification metrics\"\"\"\n",
    "    result = dict()\n",
    "    for metric in metrics:\n",
    "        if metric == \"f1_score\":\n",
    "            score = f1_score(y_true, y_predict, average=average)\n",
    "            result[metric] = score\n",
    "        elif metric == \"recall\":\n",
    "            score = recall_score(y_true, y_predict, average=average)\n",
    "            result[metric] = score\n",
    "        elif metric == \"precision\":\n",
    "            score = precision_score(y_true, y_predict, average=average)\n",
    "            result[metric] = score\n",
    "    return result\n",
    "\n",
    "\n",
    "def evaluate_prediction(y_true, y_pred, metrics, graph_cm):\n",
    "    \"\"\"Evaluate and display prediction metrics and optionally display the confusion matrix\n",
    "    \"\"\"\n",
    "    metrics_test = compute_metrics(y_true, y_pred, metrics, None)\n",
    "    for i, j in metrics_test.items():\n",
    "        print(f\"{i}: red {j[0]:.1%}, white {j[1]:.1%}\\n\\n\")\n",
    "    if graph_cm:\n",
    "        cm = confusion_matrix(y_test[\"y\"], y_test_pred)\n",
    "        disp = ConfusionMatrixDisplay(confusion_matrix=cm,\n",
    "                                  display_labels=[\"red\", \"white\"])\n",
    "        disp.plot()\n",
    "        disp.ax_.set_title(name)\n",
    "        plt.show()\n",
    "\n",
    "        \n",
    "def model_precision_recall(model, X, y):\n",
    "    \"\"\"Compute precision-recall curve for a model\"\"\"\n",
    "    # predict proba\n",
    "    yhat = model.predict_proba(X)\n",
    "    # retrieve probabilities for the positive class\n",
    "    pos_probs = yhat[:, 1]\n",
    "    precision, recall, _ = precision_recall_curve(y, pos_probs)\n",
    "    return precision, recall"
   ]
  },
  {
   "cell_type": "code",
   "execution_count": 13,
   "id": "0e246ab3",
   "metadata": {},
   "outputs": [
    {
     "name": "stdout",
     "output_type": "stream",
     "text": [
      "LogisticRegression,\n",
      "\n",
      "**TRAIN**: mattew score: 98.3%, f1 macro 99.2%\n",
      "\n",
      "\n",
      "**VALIDATION**:\n",
      "f1_score: red 100.0%, white 100.0%\n",
      "\n",
      "\n",
      "recall: red 100.0%, white 100.0%\n",
      "\n",
      "\n",
      "precision: red 100.0%, white 100.0%\n",
      "\n",
      "\n",
      "**TEST**:\n",
      "f1_score: red 99.4%, white 98.3%\n",
      "\n",
      "\n",
      "recall: red 99.4%, white 98.5%\n",
      "\n",
      "\n",
      "precision: red 99.5%, white 98.2%\n",
      "\n",
      "\n"
     ]
    },
    {
     "data": {
      "image/png": "[encoded data removed]",
      "text/plain": [
       "<Figure size 640x480 with 2 Axes>"
      ]
     },
     "metadata": {},
     "output_type": "display_data"
    },
    {
     "name": "stdout",
     "output_type": "stream",
     "text": [
      "SVM,\n",
      "\n",
      "**TRAIN**: mattew score: 98.6%, f1 macro 99.3%\n",
      "\n",
      "\n",
      "**VALIDATION**:\n",
      "f1_score: red 100.0%, white 100.0%\n",
      "\n",
      "\n",
      "recall: red 100.0%, white 100.0%\n",
      "\n",
      "\n",
      "precision: red 100.0%, white 100.0%\n",
      "\n",
      "\n",
      "**TEST**:\n",
      "f1_score: red 99.7%, white 99.1%\n",
      "\n",
      "\n",
      "recall: red 99.9%, white 98.5%\n",
      "\n",
      "\n",
      "precision: red 99.5%, white 99.6%\n",
      "\n",
      "\n"
     ]
    },
    {
     "data": {
      "image/png": "[encoded data removed]",
      "text/plain": [
       "<Figure size 640x480 with 2 Axes>"
      ]
     },
     "metadata": {},
     "output_type": "display_data"
    },
    {
     "name": "stdout",
     "output_type": "stream",
     "text": [
      "RandomForestClassifier,\n",
      "\n",
      "**TRAIN**: mattew score: 98.3%, f1 macro 99.1%\n",
      "\n",
      "\n",
      "**VALIDATION**:\n",
      "f1_score: red 99.7%, white 99.1%\n",
      "\n",
      "\n",
      "recall: red 99.7%, white 99.1%\n",
      "\n",
      "\n",
      "precision: red 99.7%, white 99.1%\n",
      "\n",
      "\n",
      "**TEST**:\n",
      "f1_score: red 99.6%, white 98.7%\n",
      "\n",
      "\n",
      "recall: red 99.9%, white 97.8%\n",
      "\n",
      "\n",
      "precision: red 99.2%, white 99.6%\n",
      "\n",
      "\n"
     ]
    },
    {
     "data": {
      "image/png": "[encoded data removed]",
      "text/plain": [
       "<Figure size 640x480 with 2 Axes>"
      ]
     },
     "metadata": {},
     "output_type": "display_data"
    },
    {
     "name": "stdout",
     "output_type": "stream",
     "text": [
      "XGBClassifier,\n",
      "\n",
      "**TRAIN**: mattew score: 98.5%, f1 macro 99.2%\n",
      "\n",
      "\n",
      "**VALIDATION**:\n",
      "f1_score: red 99.5%, white 98.6%\n",
      "\n",
      "\n",
      "recall: red 99.7%, white 98.2%\n",
      "\n",
      "\n",
      "precision: red 99.4%, white 99.1%\n",
      "\n",
      "\n",
      "**TEST**:\n",
      "f1_score: red 99.6%, white 98.7%\n",
      "\n",
      "\n",
      "recall: red 99.7%, white 98.2%\n",
      "\n",
      "\n",
      "precision: red 99.4%, white 99.3%\n",
      "\n",
      "\n"
     ]
    },
    {
     "data": {
      "image/png": "[encoded data removed]",
      "text/plain": [
       "<Figure size 640x480 with 2 Axes>"
      ]
     },
     "metadata": {},
     "output_type": "display_data"
    }
   ],
   "source": [
    "# define a scorer using mattews correlation\n",
    "mt_score = make_scorer(matthews_corrcoef)\n",
    "\n",
    "# list of label wise metrics to eavaluate model performance\n",
    "label_wise_metrics = [\"f1_score\", \"recall\", \"precision\"]\n",
    "\n",
    "# loop over different models using the get_models function\n",
    "# Tested models have the default parameters\n",
    "for name, m in get_models().items():\n",
    "    \n",
    "    # Perform cross validation using mattew score and F1 score\n",
    "    scores = cross_validation(m, X_train, y_train[\"y\"], [mt_score, \"f1_macro\"])\n",
    "    # print model performance on the train set\n",
    "    print(f\"{name},\\n\\n**TRAIN**: mattew score: {scores[0]:.1%}, f1 macro {scores[1]:.1%}\\n\\n\")\n",
    "    \n",
    "    # predict validation set and save model to disk\n",
    "    print(\"**VALIDATION**:\")\n",
    "    y_val_pred = predict_data(name, m, X_train, y_train[\"y\"], X_val, y_val[\"y\"], do_save=True)\n",
    "    # Evaluate predictons, using the metrics specify at the begining of the loop\n",
    "    evaluate_prediction(y_val[\"y\"], y_val_pred, label_wise_metrics, False)\n",
    "    \n",
    "    # predict test set and show confusion metrics\n",
    "    print(\"**TEST**:\")\n",
    "    # load model\n",
    "    loaded_model = load(open(f\"{name}_model.sav\", 'rb'))\n",
    "    y_test_pred = loaded_model.predict(X_test)\n",
    "    evaluate_prediction(y_test[\"y\"], y_test_pred, label_wise_metrics, True)\n",
    " "
   ]
  },
  {
   "cell_type": "markdown",
   "id": "e871fed4",
   "metadata": {},
   "source": [
    "- All models show a very good performance. SVM model have the best metrics."
   ]
  },
  {
   "cell_type": "markdown",
   "id": "4184e6d8",
   "metadata": {},
   "source": [
    "### Precision recall curve for SVM"
   ]
  },
  {
   "cell_type": "code",
   "execution_count": 14,
   "id": "bf6ccc62",
   "metadata": {},
   "outputs": [
    {
     "data": {
      "image/png": "[encoded data removed]",
      "text/plain": [
       "<Figure size 640x480 with 1 Axes>"
      ]
     },
     "metadata": {},
     "output_type": "display_data"
    }
   ],
   "source": [
    "# SVM model\n",
    "svm_model = load(open(f\"SVM_model.sav\", 'rb'))\n",
    "\n",
    "recall_train, precision_train = model_precision_recall(svm_model, X_train, y_train[\"y\"])\n",
    "recall_val, precision_val = model_precision_recall(svm_model, X_val, y_val[\"y\"])\n",
    "recall_test, precision_test = model_precision_recall(svm_model, X_test, y_test[\"y\"])\n",
    "    \n",
    "# calculate the no skill line as the proportion of the positive class\n",
    "no_skill = len(y_train[y_train[\"y\"]==1]) / len(y_train)\n",
    "# plot the no skill precision-recall curve\n",
    "plt.plot([0, 1], [no_skill, no_skill], linestyle='--', label='No Skill')\n",
    "# plot the model precision-recall curve\n",
    "plt.plot(recall_train, precision_train, marker='+', label='train', linewidth=1)\n",
    "plt.plot(recall_val, precision_val, marker='*', label='validation', linewidth=0.5)\n",
    "plt.plot(recall_test, precision_test, marker='.', label='test', linewidth=0.8)\n",
    "# axis labels\n",
    "plt.xlabel('Recall')\n",
    "plt.ylabel('Precision')\n",
    "plt.title('SVM performance for Red Wine class')\n",
    "# show the legend\n",
    "plt.legend()\n",
    "# show the plot\n",
    "plt.show()"
   ]
  },
  {
   "cell_type": "markdown",
   "id": "b625b7a6",
   "metadata": {},
   "source": [
    "### Feature importance\n",
    "- SVM doesnt have a feature importance attribute, but we can use random forest instead"
   ]
  },
  {
   "cell_type": "code",
   "execution_count": 29,
   "id": "536d0604",
   "metadata": {},
   "outputs": [],
   "source": [
    "rf_model = load(open(f\"RandomForestClassifier_model.sav\", 'rb'))"
   ]
  },
  {
   "cell_type": "code",
   "execution_count": 30,
   "id": "9aa7ace3",
   "metadata": {},
   "outputs": [
    {
     "data": {
      "text/html": [
       "<div>\n",
       "<style scoped>\n",
       "    .dataframe tbody tr th:only-of-type {\n",
       "        vertical-align: middle;\n",
       "    }\n",
       "\n",
       "    .dataframe tbody tr th {\n",
       "        vertical-align: top;\n",
       "    }\n",
       "\n",
       "    .dataframe thead th {\n",
       "        text-align: right;\n",
       "    }\n",
       "</style>\n",
       "<table border=\"1\" class=\"dataframe\">\n",
       "  <thead>\n",
       "    <tr style=\"text-align: right;\">\n",
       "      <th></th>\n",
       "      <th>feat_imp</th>\n",
       "    </tr>\n",
       "  </thead>\n",
       "  <tbody>\n",
       "    <tr>\n",
       "      <th>total sulfur dioxide</th>\n",
       "      <td>0.294869</td>\n",
       "    </tr>\n",
       "    <tr>\n",
       "      <th>chlorides</th>\n",
       "      <td>0.260785</td>\n",
       "    </tr>\n",
       "    <tr>\n",
       "      <th>volatile acidity</th>\n",
       "      <td>0.134706</td>\n",
       "    </tr>\n",
       "    <tr>\n",
       "      <th>density</th>\n",
       "      <td>0.060593</td>\n",
       "    </tr>\n",
       "    <tr>\n",
       "      <th>free sulfur dioxide</th>\n",
       "      <td>0.059128</td>\n",
       "    </tr>\n",
       "    <tr>\n",
       "      <th>residual sugar</th>\n",
       "      <td>0.054946</td>\n",
       "    </tr>\n",
       "    <tr>\n",
       "      <th>fixed acidity</th>\n",
       "      <td>0.044946</td>\n",
       "    </tr>\n",
       "    <tr>\n",
       "      <th>sulphates</th>\n",
       "      <td>0.041855</td>\n",
       "    </tr>\n",
       "    <tr>\n",
       "      <th>pH</th>\n",
       "      <td>0.020887</td>\n",
       "    </tr>\n",
       "    <tr>\n",
       "      <th>citric acid</th>\n",
       "      <td>0.015421</td>\n",
       "    </tr>\n",
       "    <tr>\n",
       "      <th>alcohol</th>\n",
       "      <td>0.008960</td>\n",
       "    </tr>\n",
       "    <tr>\n",
       "      <th>quality</th>\n",
       "      <td>0.002905</td>\n",
       "    </tr>\n",
       "  </tbody>\n",
       "</table>\n",
       "</div>"
      ],
      "text/plain": [
       "                      feat_imp\n",
       "total sulfur dioxide  0.294869\n",
       "chlorides             0.260785\n",
       "volatile acidity      0.134706\n",
       "density               0.060593\n",
       "free sulfur dioxide   0.059128\n",
       "residual sugar        0.054946\n",
       "fixed acidity         0.044946\n",
       "sulphates             0.041855\n",
       "pH                    0.020887\n",
       "citric acid           0.015421\n",
       "alcohol               0.008960\n",
       "quality               0.002905"
      ]
     },
     "execution_count": 30,
     "metadata": {},
     "output_type": "execute_result"
    }
   ],
   "source": [
    "df_feat_imp = pd.DataFrame(\n",
    "    data=rf_model.feature_importances_,\n",
    "    columns=[\"feat_imp\"],\n",
    "    index=X_train.columns\n",
    ")\n",
    "df_feat_imp = df_feat_imp.sort_values(\"feat_imp\", ascending=False)\n",
    "df_feat_imp"
   ]
  },
  {
   "cell_type": "code",
   "execution_count": 28,
   "id": "d2021653",
   "metadata": {},
   "outputs": [
    {
     "data": {
      "application/vnd.plotly.v1+json": {
       "config": {
        "plotlyServerURL": "https://plot.ly"
       },
       "data": [
        {
         "alignmentgroup": "True",
         "hovertemplate": "feat_imp=%{x}<br>index=%{y}<extra></extra>",
         "legendgroup": "",
         "marker": {
          "color": "#636efa",
          "pattern": {
           "shape": ""
          }
         },
         "name": "",
         "offsetgroup": "",
         "orientation": "h",
         "showlegend": false,
         "textposition": "auto",
         "type": "bar",
         "x": [
          0.2948691617704524,
          0.2607845192999389,
          0.13470604145166323,
          0.060592603365302006,
          0.059127733352775776,
          0.05494565257815975,
          0.04494586171197728,
          0.04185508391571608,
          0.02088738404590437,
          0.015420803746149712,
          0.008960368661430126,
          0.002904786100530213
         ],
         "xaxis": "x",
         "y": [
          "total sulfur dioxide",
          "chlorides",
          "volatile acidity",
          "density",
          "free sulfur dioxide",
          "residual sugar",
          "fixed acidity",
          "sulphates",
          "pH",
          "citric acid",
          "alcohol",
          "quality"
         ],
         "yaxis": "y"
        }
       ],
       "layout": {
        "barmode": "relative",
        "legend": {
         "tracegroupgap": 0
        },
        "template": {
         "data": {
          "bar": [
           {
            "error_x": {
             "color": "#2a3f5f"
            },
            "error_y": {
             "color": "#2a3f5f"
            },
            "marker": {
             "line": {
              "color": "#E5ECF6",
              "width": 0.5
             },
             "pattern": {
              "fillmode": "overlay",
              "size": 10,
              "solidity": 0.2
             }
            },
            "type": "bar"
           }
          ],
          "barpolar": [
           {
            "marker": {
             "line": {
              "color": "#E5ECF6",
              "width": 0.5
             },
             "pattern": {
              "fillmode": "overlay",
              "size": 10,
              "solidity": 0.2
             }
            },
            "type": "barpolar"
           }
          ],
          "carpet": [
           {
            "aaxis": {
             "endlinecolor": "#2a3f5f",
             "gridcolor": "white",
             "linecolor": "white",
             "minorgridcolor": "white",
             "startlinecolor": "#2a3f5f"
            },
            "baxis": {
             "endlinecolor": "#2a3f5f",
             "gridcolor": "white",
             "linecolor": "white",
             "minorgridcolor": "white",
             "startlinecolor": "#2a3f5f"
            },
            "type": "carpet"
           }
          ],
          "choropleth": [
           {
            "colorbar": {
             "outlinewidth": 0,
             "ticks": ""
            },
            "type": "choropleth"
           }
          ],
          "contour": [
           {
            "colorbar": {
             "outlinewidth": 0,
             "ticks": ""
            },
            "colorscale": [
             [
              0,
              "#0d0887"
             ],
             [
              0.1111111111111111,
              "#46039f"
             ],
             [
              0.2222222222222222,
              "#7201a8"
             ],
             [
              0.3333333333333333,
              "#9c179e"
             ],
             [
              0.4444444444444444,
              "#bd3786"
             ],
             [
              0.5555555555555556,
              "#d8576b"
             ],
             [
              0.6666666666666666,
              "#ed7953"
             ],
             [
              0.7777777777777778,
              "#fb9f3a"
             ],
             [
              0.8888888888888888,
              "#fdca26"
             ],
             [
              1,
              "#f0f921"
             ]
            ],
            "type": "contour"
           }
          ],
          "contourcarpet": [
           {
            "colorbar": {
             "outlinewidth": 0,
             "ticks": ""
            },
            "type": "contourcarpet"
           }
          ],
          "heatmap": [
           {
            "colorbar": {
             "outlinewidth": 0,
             "ticks": ""
            },
            "colorscale": [
             [
              0,
              "#0d0887"
             ],
             [
              0.1111111111111111,
              "#46039f"
             ],
             [
              0.2222222222222222,
              "#7201a8"
             ],
             [
              0.3333333333333333,
              "#9c179e"
             ],
             [
              0.4444444444444444,
              "#bd3786"
             ],
             [
              0.5555555555555556,
              "#d8576b"
             ],
             [
              0.6666666666666666,
              "#ed7953"
             ],
             [
              0.7777777777777778,
              "#fb9f3a"
             ],
             [
              0.8888888888888888,
              "#fdca26"
             ],
             [
              1,
              "#f0f921"
             ]
            ],
            "type": "heatmap"
           }
          ],
          "heatmapgl": [
           {
            "colorbar": {
             "outlinewidth": 0,
             "ticks": ""
            },
            "colorscale": [
             [
              0,
              "#0d0887"
             ],
             [
              0.1111111111111111,
              "#46039f"
             ],
             [
              0.2222222222222222,
              "#7201a8"
             ],
             [
              0.3333333333333333,
              "#9c179e"
             ],
             [
              0.4444444444444444,
              "#bd3786"
             ],
             [
              0.5555555555555556,
              "#d8576b"
             ],
             [
              0.6666666666666666,
              "#ed7953"
             ],
             [
              0.7777777777777778,
              "#fb9f3a"
             ],
             [
              0.8888888888888888,
              "#fdca26"
             ],
             [
              1,
              "#f0f921"
             ]
            ],
            "type": "heatmapgl"
           }
          ],
          "histogram": [
           {
            "marker": {
             "pattern": {
              "fillmode": "overlay",
              "size": 10,
              "solidity": 0.2
             }
            },
            "type": "histogram"
           }
          ],
          "histogram2d": [
           {
            "colorbar": {
             "outlinewidth": 0,
             "ticks": ""
            },
            "colorscale": [
             [
              0,
              "#0d0887"
             ],
             [
              0.1111111111111111,
              "#46039f"
             ],
             [
              0.2222222222222222,
              "#7201a8"
             ],
             [
              0.3333333333333333,
              "#9c179e"
             ],
             [
              0.4444444444444444,
              "#bd3786"
             ],
             [
              0.5555555555555556,
              "#d8576b"
             ],
             [
              0.6666666666666666,
              "#ed7953"
             ],
             [
              0.7777777777777778,
              "#fb9f3a"
             ],
             [
              0.8888888888888888,
              "#fdca26"
             ],
             [
              1,
              "#f0f921"
             ]
            ],
            "type": "histogram2d"
           }
          ],
          "histogram2dcontour": [
           {
            "colorbar": {
             "outlinewidth": 0,
             "ticks": ""
            },
            "colorscale": [
             [
              0,
              "#0d0887"
             ],
             [
              0.1111111111111111,
              "#46039f"
             ],
             [
              0.2222222222222222,
              "#7201a8"
             ],
             [
              0.3333333333333333,
              "#9c179e"
             ],
             [
              0.4444444444444444,
              "#bd3786"
             ],
             [
              0.5555555555555556,
              "#d8576b"
             ],
             [
              0.6666666666666666,
              "#ed7953"
             ],
             [
              0.7777777777777778,
              "#fb9f3a"
             ],
             [
              0.8888888888888888,
              "#fdca26"
             ],
             [
              1,
              "#f0f921"
             ]
            ],
            "type": "histogram2dcontour"
           }
          ],
          "mesh3d": [
           {
            "colorbar": {
             "outlinewidth": 0,
             "ticks": ""
            },
            "type": "mesh3d"
           }
          ],
          "parcoords": [
           {
            "line": {
             "colorbar": {
              "outlinewidth": 0,
              "ticks": ""
             }
            },
            "type": "parcoords"
           }
          ],
          "pie": [
           {
            "automargin": true,
            "type": "pie"
           }
          ],
          "scatter": [
           {
            "fillpattern": {
             "fillmode": "overlay",
             "size": 10,
             "solidity": 0.2
            },
            "type": "scatter"
           }
          ],
          "scatter3d": [
           {
            "line": {
             "colorbar": {
              "outlinewidth": 0,
              "ticks": ""
             }
            },
            "marker": {
             "colorbar": {
              "outlinewidth": 0,
              "ticks": ""
             }
            },
            "type": "scatter3d"
           }
          ],
          "scattercarpet": [
           {
            "marker": {
             "colorbar": {
              "outlinewidth": 0,
              "ticks": ""
             }
            },
            "type": "scattercarpet"
           }
          ],
          "scattergeo": [
           {
            "marker": {
             "colorbar": {
              "outlinewidth": 0,
              "ticks": ""
             }
            },
            "type": "scattergeo"
           }
          ],
          "scattergl": [
           {
            "marker": {
             "colorbar": {
              "outlinewidth": 0,
              "ticks": ""
             }
            },
            "type": "scattergl"
           }
          ],
          "scattermapbox": [
           {
            "marker": {
             "colorbar": {
              "outlinewidth": 0,
              "ticks": ""
             }
            },
            "type": "scattermapbox"
           }
          ],
          "scatterpolar": [
           {
            "marker": {
             "colorbar": {
              "outlinewidth": 0,
              "ticks": ""
             }
            },
            "type": "scatterpolar"
           }
          ],
          "scatterpolargl": [
           {
            "marker": {
             "colorbar": {
              "outlinewidth": 0,
              "ticks": ""
             }
            },
            "type": "scatterpolargl"
           }
          ],
          "scatterternary": [
           {
            "marker": {
             "colorbar": {
              "outlinewidth": 0,
              "ticks": ""
             }
            },
            "type": "scatterternary"
           }
          ],
          "surface": [
           {
            "colorbar": {
             "outlinewidth": 0,
             "ticks": ""
            },
            "colorscale": [
             [
              0,
              "#0d0887"
             ],
             [
              0.1111111111111111,
              "#46039f"
             ],
             [
              0.2222222222222222,
              "#7201a8"
             ],
             [
              0.3333333333333333,
              "#9c179e"
             ],
             [
              0.4444444444444444,
              "#bd3786"
             ],
             [
              0.5555555555555556,
              "#d8576b"
             ],
             [
              0.6666666666666666,
              "#ed7953"
             ],
             [
              0.7777777777777778,
              "#fb9f3a"
             ],
             [
              0.8888888888888888,
              "#fdca26"
             ],
             [
              1,
              "#f0f921"
             ]
            ],
            "type": "surface"
           }
          ],
          "table": [
           {
            "cells": {
             "fill": {
              "color": "#EBF0F8"
             },
             "line": {
              "color": "white"
             }
            },
            "header": {
             "fill": {
              "color": "#C8D4E3"
             },
             "line": {
              "color": "white"
             }
            },
            "type": "table"
           }
          ]
         },
         "layout": {
          "annotationdefaults": {
           "arrowcolor": "#2a3f5f",
           "arrowhead": 0,
           "arrowwidth": 1
          },
          "autotypenumbers": "strict",
          "coloraxis": {
           "colorbar": {
            "outlinewidth": 0,
            "ticks": ""
           }
          },
          "colorscale": {
           "diverging": [
            [
             0,
             "#8e0152"
            ],
            [
             0.1,
             "#c51b7d"
            ],
            [
             0.2,
             "#de77ae"
            ],
            [
             0.3,
             "#f1b6da"
            ],
            [
             0.4,
             "#fde0ef"
            ],
            [
             0.5,
             "#f7f7f7"
            ],
            [
             0.6,
             "#e6f5d0"
            ],
            [
             0.7,
             "#b8e186"
            ],
            [
             0.8,
             "#7fbc41"
            ],
            [
             0.9,
             "#4d9221"
            ],
            [
             1,
             "#276419"
            ]
           ],
           "sequential": [
            [
             0,
             "#0d0887"
            ],
            [
             0.1111111111111111,
             "#46039f"
            ],
            [
             0.2222222222222222,
             "#7201a8"
            ],
            [
             0.3333333333333333,
             "#9c179e"
            ],
            [
             0.4444444444444444,
             "#bd3786"
            ],
            [
             0.5555555555555556,
             "#d8576b"
            ],
            [
             0.6666666666666666,
             "#ed7953"
            ],
            [
             0.7777777777777778,
             "#fb9f3a"
            ],
            [
             0.8888888888888888,
             "#fdca26"
            ],
            [
             1,
             "#f0f921"
            ]
           ],
           "sequentialminus": [
            [
             0,
             "#0d0887"
            ],
            [
             0.1111111111111111,
             "#46039f"
            ],
            [
             0.2222222222222222,
             "#7201a8"
            ],
            [
             0.3333333333333333,
             "#9c179e"
            ],
            [
             0.4444444444444444,
             "#bd3786"
            ],
            [
             0.5555555555555556,
             "#d8576b"
            ],
            [
             0.6666666666666666,
             "#ed7953"
            ],
            [
             0.7777777777777778,
             "#fb9f3a"
            ],
            [
             0.8888888888888888,
             "#fdca26"
            ],
            [
             1,
             "#f0f921"
            ]
           ]
          },
          "colorway": [
           "#636efa",
           "#EF553B",
           "#00cc96",
           "#ab63fa",
           "#FFA15A",
           "#19d3f3",
           "#FF6692",
           "#B6E880",
           "#FF97FF",
           "#FECB52"
          ],
          "font": {
           "color": "#2a3f5f"
          },
          "geo": {
           "bgcolor": "white",
           "lakecolor": "white",
           "landcolor": "#E5ECF6",
           "showlakes": true,
           "showland": true,
           "subunitcolor": "white"
          },
          "hoverlabel": {
           "align": "left"
          },
          "hovermode": "closest",
          "mapbox": {
           "style": "light"
          },
          "paper_bgcolor": "white",
          "plot_bgcolor": "#E5ECF6",
          "polar": {
           "angularaxis": {
            "gridcolor": "white",
            "linecolor": "white",
            "ticks": ""
           },
           "bgcolor": "#E5ECF6",
           "radialaxis": {
            "gridcolor": "white",
            "linecolor": "white",
            "ticks": ""
           }
          },
          "scene": {
           "xaxis": {
            "backgroundcolor": "#E5ECF6",
            "gridcolor": "white",
            "gridwidth": 2,
            "linecolor": "white",
            "showbackground": true,
            "ticks": "",
            "zerolinecolor": "white"
           },
           "yaxis": {
            "backgroundcolor": "#E5ECF6",
            "gridcolor": "white",
            "gridwidth": 2,
            "linecolor": "white",
            "showbackground": true,
            "ticks": "",
            "zerolinecolor": "white"
           },
           "zaxis": {
            "backgroundcolor": "#E5ECF6",
            "gridcolor": "white",
            "gridwidth": 2,
            "linecolor": "white",
            "showbackground": true,
            "ticks": "",
            "zerolinecolor": "white"
           }
          },
          "shapedefaults": {
           "line": {
            "color": "#2a3f5f"
           }
          },
          "ternary": {
           "aaxis": {
            "gridcolor": "white",
            "linecolor": "white",
            "ticks": ""
           },
           "baxis": {
            "gridcolor": "white",
            "linecolor": "white",
            "ticks": ""
           },
           "bgcolor": "#E5ECF6",
           "caxis": {
            "gridcolor": "white",
            "linecolor": "white",
            "ticks": ""
           }
          },
          "title": {
           "x": 0.05
          },
          "xaxis": {
           "automargin": true,
           "gridcolor": "white",
           "linecolor": "white",
           "ticks": "",
           "title": {
            "standoff": 15
           },
           "zerolinecolor": "white",
           "zerolinewidth": 2
          },
          "yaxis": {
           "automargin": true,
           "gridcolor": "white",
           "linecolor": "white",
           "ticks": "",
           "title": {
            "standoff": 15
           },
           "zerolinecolor": "white",
           "zerolinewidth": 2
          }
         }
        },
        "title": {
         "text": "Feature importance for Random Forest model"
        },
        "xaxis": {
         "anchor": "y",
         "domain": [
          0,
          1
         ],
         "title": {
          "text": "feat_imp"
         }
        },
        "yaxis": {
         "anchor": "x",
         "domain": [
          0,
          1
         ],
         "title": {
          "text": "index"
         }
        }
       }
      },
      "text/html": [
       "<div>                            <div id=\"8971b2ce-b3b5-4086-935a-de98323649f6\" class=\"plotly-graph-div\" style=\"height:525px; width:100%;\"></div>            <script type=\"text/javascript\">                require([\"plotly\"], function(Plotly) {                    window.PLOTLYENV=window.PLOTLYENV || {};                                    if (document.getElementById(\"8971b2ce-b3b5-4086-935a-de98323649f6\")) {                    Plotly.newPlot(                        \"8971b2ce-b3b5-4086-935a-de98323649f6\",                        [{\"alignmentgroup\":\"True\",\"hovertemplate\":\"feat_imp=%{x}<br>index=%{y}<extra></extra>\",\"legendgroup\":\"\",\"marker\":{\"color\":\"#636efa\",\"pattern\":{\"shape\":\"\"}},\"name\":\"\",\"offsetgroup\":\"\",\"orientation\":\"h\",\"showlegend\":false,\"textposition\":\"auto\",\"x\":[0.2948691617704524,0.2607845192999389,0.13470604145166323,0.060592603365302006,0.059127733352775776,0.05494565257815975,0.04494586171197728,0.04185508391571608,0.02088738404590437,0.015420803746149712,0.008960368661430126,0.002904786100530213],\"xaxis\":\"x\",\"y\":[\"total sulfur dioxide\",\"chlorides\",\"volatile acidity\",\"density\",\"free sulfur dioxide\",\"residual sugar\",\"fixed acidity\",\"sulphates\",\"pH\",\"citric acid\",\"alcohol\",\"quality\"],\"yaxis\":\"y\",\"type\":\"bar\"}],                        {\"template\":{\"data\":{\"histogram2dcontour\":[{\"type\":\"histogram2dcontour\",\"colorbar\":{\"outlinewidth\":0,\"ticks\":\"\"},\"colorscale\":[[0.0,\"#0d0887\"],[0.1111111111111111,\"#46039f\"],[0.2222222222222222,\"#7201a8\"],[0.3333333333333333,\"#9c179e\"],[0.4444444444444444,\"#bd3786\"],[0.5555555555555556,\"#d8576b\"],[0.6666666666666666,\"#ed7953\"],[0.7777777777777778,\"#fb9f3a\"],[0.8888888888888888,\"#fdca26\"],[1.0,\"#f0f921\"]]}],\"choropleth\":[{\"type\":\"choropleth\",\"colorbar\":{\"outlinewidth\":0,\"ticks\":\"\"}}],\"histogram2d\":[{\"type\":\"histogram2d\",\"colorbar\":{\"outlinewidth\":0,\"ticks\":\"\"},\"colorscale\":[[0.0,\"#0d0887\"],[0.1111111111111111,\"#46039f\"],[0.2222222222222222,\"#7201a8\"],[0.3333333333333333,\"#9c179e\"],[0.4444444444444444,\"#bd3786\"],[0.5555555555555556,\"#d8576b\"],[0.6666666666666666,\"#ed7953\"],[0.7777777777777778,\"#fb9f3a\"],[0.8888888888888888,\"#fdca26\"],[1.0,\"#f0f921\"]]}],\"heatmap\":[{\"type\":\"heatmap\",\"colorbar\":{\"outlinewidth\":0,\"ticks\":\"\"},\"colorscale\":[[0.0,\"#0d0887\"],[0.1111111111111111,\"#46039f\"],[0.2222222222222222,\"#7201a8\"],[0.3333333333333333,\"#9c179e\"],[0.4444444444444444,\"#bd3786\"],[0.5555555555555556,\"#d8576b\"],[0.6666666666666666,\"#ed7953\"],[0.7777777777777778,\"#fb9f3a\"],[0.8888888888888888,\"#fdca26\"],[1.0,\"#f0f921\"]]}],\"heatmapgl\":[{\"type\":\"heatmapgl\",\"colorbar\":{\"outlinewidth\":0,\"ticks\":\"\"},\"colorscale\":[[0.0,\"#0d0887\"],[0.1111111111111111,\"#46039f\"],[0.2222222222222222,\"#7201a8\"],[0.3333333333333333,\"#9c179e\"],[0.4444444444444444,\"#bd3786\"],[0.5555555555555556,\"#d8576b\"],[0.6666666666666666,\"#ed7953\"],[0.7777777777777778,\"#fb9f3a\"],[0.8888888888888888,\"#fdca26\"],[1.0,\"#f0f921\"]]}],\"contourcarpet\":[{\"type\":\"contourcarpet\",\"colorbar\":{\"outlinewidth\":0,\"ticks\":\"\"}}],\"contour\":[{\"type\":\"contour\",\"colorbar\":{\"outlinewidth\":0,\"ticks\":\"\"},\"colorscale\":[[0.0,\"#0d0887\"],[0.1111111111111111,\"#46039f\"],[0.2222222222222222,\"#7201a8\"],[0.3333333333333333,\"#9c179e\"],[0.4444444444444444,\"#bd3786\"],[0.5555555555555556,\"#d8576b\"],[0.6666666666666666,\"#ed7953\"],[0.7777777777777778,\"#fb9f3a\"],[0.8888888888888888,\"#fdca26\"],[1.0,\"#f0f921\"]]}],\"surface\":[{\"type\":\"surface\",\"colorbar\":{\"outlinewidth\":0,\"ticks\":\"\"},\"colorscale\":[[0.0,\"#0d0887\"],[0.1111111111111111,\"#46039f\"],[0.2222222222222222,\"#7201a8\"],[0.3333333333333333,\"#9c179e\"],[0.4444444444444444,\"#bd3786\"],[0.5555555555555556,\"#d8576b\"],[0.6666666666666666,\"#ed7953\"],[0.7777777777777778,\"#fb9f3a\"],[0.8888888888888888,\"#fdca26\"],[1.0,\"#f0f921\"]]}],\"mesh3d\":[{\"type\":\"mesh3d\",\"colorbar\":{\"outlinewidth\":0,\"ticks\":\"\"}}],\"scatter\":[{\"fillpattern\":{\"fillmode\":\"overlay\",\"size\":10,\"solidity\":0.2},\"type\":\"scatter\"}],\"parcoords\":[{\"type\":\"parcoords\",\"line\":{\"colorbar\":{\"outlinewidth\":0,\"ticks\":\"\"}}}],\"scatterpolargl\":[{\"type\":\"scatterpolargl\",\"marker\":{\"colorbar\":{\"outlinewidth\":0,\"ticks\":\"\"}}}],\"bar\":[{\"error_x\":{\"color\":\"#2a3f5f\"},\"error_y\":{\"color\":\"#2a3f5f\"},\"marker\":{\"line\":{\"color\":\"#E5ECF6\",\"width\":0.5},\"pattern\":{\"fillmode\":\"overlay\",\"size\":10,\"solidity\":0.2}},\"type\":\"bar\"}],\"scattergeo\":[{\"type\":\"scattergeo\",\"marker\":{\"colorbar\":{\"outlinewidth\":0,\"ticks\":\"\"}}}],\"scatterpolar\":[{\"type\":\"scatterpolar\",\"marker\":{\"colorbar\":{\"outlinewidth\":0,\"ticks\":\"\"}}}],\"histogram\":[{\"marker\":{\"pattern\":{\"fillmode\":\"overlay\",\"size\":10,\"solidity\":0.2}},\"type\":\"histogram\"}],\"scattergl\":[{\"type\":\"scattergl\",\"marker\":{\"colorbar\":{\"outlinewidth\":0,\"ticks\":\"\"}}}],\"scatter3d\":[{\"type\":\"scatter3d\",\"line\":{\"colorbar\":{\"outlinewidth\":0,\"ticks\":\"\"}},\"marker\":{\"colorbar\":{\"outlinewidth\":0,\"ticks\":\"\"}}}],\"scattermapbox\":[{\"type\":\"scattermapbox\",\"marker\":{\"colorbar\":{\"outlinewidth\":0,\"ticks\":\"\"}}}],\"scatterternary\":[{\"type\":\"scatterternary\",\"marker\":{\"colorbar\":{\"outlinewidth\":0,\"ticks\":\"\"}}}],\"scattercarpet\":[{\"type\":\"scattercarpet\",\"marker\":{\"colorbar\":{\"outlinewidth\":0,\"ticks\":\"\"}}}],\"carpet\":[{\"aaxis\":{\"endlinecolor\":\"#2a3f5f\",\"gridcolor\":\"white\",\"linecolor\":\"white\",\"minorgridcolor\":\"white\",\"startlinecolor\":\"#2a3f5f\"},\"baxis\":{\"endlinecolor\":\"#2a3f5f\",\"gridcolor\":\"white\",\"linecolor\":\"white\",\"minorgridcolor\":\"white\",\"startlinecolor\":\"#2a3f5f\"},\"type\":\"carpet\"}],\"table\":[{\"cells\":{\"fill\":{\"color\":\"#EBF0F8\"},\"line\":{\"color\":\"white\"}},\"header\":{\"fill\":{\"color\":\"#C8D4E3\"},\"line\":{\"color\":\"white\"}},\"type\":\"table\"}],\"barpolar\":[{\"marker\":{\"line\":{\"color\":\"#E5ECF6\",\"width\":0.5},\"pattern\":{\"fillmode\":\"overlay\",\"size\":10,\"solidity\":0.2}},\"type\":\"barpolar\"}],\"pie\":[{\"automargin\":true,\"type\":\"pie\"}]},\"layout\":{\"autotypenumbers\":\"strict\",\"colorway\":[\"#636efa\",\"#EF553B\",\"#00cc96\",\"#ab63fa\",\"#FFA15A\",\"#19d3f3\",\"#FF6692\",\"#B6E880\",\"#FF97FF\",\"#FECB52\"],\"font\":{\"color\":\"#2a3f5f\"},\"hovermode\":\"closest\",\"hoverlabel\":{\"align\":\"left\"},\"paper_bgcolor\":\"white\",\"plot_bgcolor\":\"#E5ECF6\",\"polar\":{\"bgcolor\":\"#E5ECF6\",\"angularaxis\":{\"gridcolor\":\"white\",\"linecolor\":\"white\",\"ticks\":\"\"},\"radialaxis\":{\"gridcolor\":\"white\",\"linecolor\":\"white\",\"ticks\":\"\"}},\"ternary\":{\"bgcolor\":\"#E5ECF6\",\"aaxis\":{\"gridcolor\":\"white\",\"linecolor\":\"white\",\"ticks\":\"\"},\"baxis\":{\"gridcolor\":\"white\",\"linecolor\":\"white\",\"ticks\":\"\"},\"caxis\":{\"gridcolor\":\"white\",\"linecolor\":\"white\",\"ticks\":\"\"}},\"coloraxis\":{\"colorbar\":{\"outlinewidth\":0,\"ticks\":\"\"}},\"colorscale\":{\"sequential\":[[0.0,\"#0d0887\"],[0.1111111111111111,\"#46039f\"],[0.2222222222222222,\"#7201a8\"],[0.3333333333333333,\"#9c179e\"],[0.4444444444444444,\"#bd3786\"],[0.5555555555555556,\"#d8576b\"],[0.6666666666666666,\"#ed7953\"],[0.7777777777777778,\"#fb9f3a\"],[0.8888888888888888,\"#fdca26\"],[1.0,\"#f0f921\"]],\"sequentialminus\":[[0.0,\"#0d0887\"],[0.1111111111111111,\"#46039f\"],[0.2222222222222222,\"#7201a8\"],[0.3333333333333333,\"#9c179e\"],[0.4444444444444444,\"#bd3786\"],[0.5555555555555556,\"#d8576b\"],[0.6666666666666666,\"#ed7953\"],[0.7777777777777778,\"#fb9f3a\"],[0.8888888888888888,\"#fdca26\"],[1.0,\"#f0f921\"]],\"diverging\":[[0,\"#8e0152\"],[0.1,\"#c51b7d\"],[0.2,\"#de77ae\"],[0.3,\"#f1b6da\"],[0.4,\"#fde0ef\"],[0.5,\"#f7f7f7\"],[0.6,\"#e6f5d0\"],[0.7,\"#b8e186\"],[0.8,\"#7fbc41\"],[0.9,\"#4d9221\"],[1,\"#276419\"]]},\"xaxis\":{\"gridcolor\":\"white\",\"linecolor\":\"white\",\"ticks\":\"\",\"title\":{\"standoff\":15},\"zerolinecolor\":\"white\",\"automargin\":true,\"zerolinewidth\":2},\"yaxis\":{\"gridcolor\":\"white\",\"linecolor\":\"white\",\"ticks\":\"\",\"title\":{\"standoff\":15},\"zerolinecolor\":\"white\",\"automargin\":true,\"zerolinewidth\":2},\"scene\":{\"xaxis\":{\"backgroundcolor\":\"#E5ECF6\",\"gridcolor\":\"white\",\"linecolor\":\"white\",\"showbackground\":true,\"ticks\":\"\",\"zerolinecolor\":\"white\",\"gridwidth\":2},\"yaxis\":{\"backgroundcolor\":\"#E5ECF6\",\"gridcolor\":\"white\",\"linecolor\":\"white\",\"showbackground\":true,\"ticks\":\"\",\"zerolinecolor\":\"white\",\"gridwidth\":2},\"zaxis\":{\"backgroundcolor\":\"#E5ECF6\",\"gridcolor\":\"white\",\"linecolor\":\"white\",\"showbackground\":true,\"ticks\":\"\",\"zerolinecolor\":\"white\",\"gridwidth\":2}},\"shapedefaults\":{\"line\":{\"color\":\"#2a3f5f\"}},\"annotationdefaults\":{\"arrowcolor\":\"#2a3f5f\",\"arrowhead\":0,\"arrowwidth\":1},\"geo\":{\"bgcolor\":\"white\",\"landcolor\":\"#E5ECF6\",\"subunitcolor\":\"white\",\"showland\":true,\"showlakes\":true,\"lakecolor\":\"white\"},\"title\":{\"x\":0.05},\"mapbox\":{\"style\":\"light\"}}},\"xaxis\":{\"anchor\":\"y\",\"domain\":[0.0,1.0],\"title\":{\"text\":\"feat_imp\"}},\"yaxis\":{\"anchor\":\"x\",\"domain\":[0.0,1.0],\"title\":{\"text\":\"index\"}},\"legend\":{\"tracegroupgap\":0},\"title\":{\"text\":\"Feature importance for Random Forest model\"},\"barmode\":\"relative\"},                        {\"responsive\": true}                    ).then(function(){\n",
       "                            \n",
       "var gd = document.getElementById('8971b2ce-b3b5-4086-935a-de98323649f6');\n",
       "var x = new MutationObserver(function (mutations, observer) {{\n",
       "        var display = window.getComputedStyle(gd).display;\n",
       "        if (!display || display === 'none') {{\n",
       "            console.log([gd, 'removed!']);\n",
       "            Plotly.purge(gd);\n",
       "            observer.disconnect();\n",
       "        }}\n",
       "}});\n",
       "\n",
       "// Listen for the removal of the full notebook cells\n",
       "var notebookContainer = gd.closest('#notebook-container');\n",
       "if (notebookContainer) {{\n",
       "    x.observe(notebookContainer, {childList: true});\n",
       "}}\n",
       "\n",
       "// Listen for the clearing of the current output cell\n",
       "var outputEl = gd.closest('.output');\n",
       "if (outputEl) {{\n",
       "    x.observe(outputEl, {childList: true});\n",
       "}}\n",
       "\n",
       "                        })                };                });            </script>        </div>"
      ]
     },
     "metadata": {},
     "output_type": "display_data"
    }
   ],
   "source": [
    "import plotly.express as px\n",
    "fig = px.bar(df_feat_imp, x='feat_imp', y=df_feat_imp.index, title=\"Feature importance for Random Forest model\")\n",
    "fig.show()"
   ]
  }
 ],
 "metadata": {
  "kernelspec": {
   "display_name": "Python 3",
   "language": "python",
   "name": "python3"
  },
  "language_info": {
   "codemirror_mode": {
    "name": "ipython",
    "version": 3
   },
   "file_extension": ".py",
   "mimetype": "text/x-python",
   "name": "python",
   "nbconvert_exporter": "python",
   "pygments_lexer": "ipython3",
   "version": "3.9.12"
  }
 },
 "nbformat": 4,
 "nbformat_minor": 5
}
